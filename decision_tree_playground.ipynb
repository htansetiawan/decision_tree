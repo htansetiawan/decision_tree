{
 "cells": [
  {
   "cell_type": "markdown",
   "id": "a09ed3f6",
   "metadata": {},
   "source": [
    "# Decision Tree Classifier Playground "
   ]
  },
  {
   "cell_type": "code",
   "execution_count": 10,
   "id": "59861346",
   "metadata": {},
   "outputs": [],
   "source": [
    "import pandas as pd\n",
    "\n",
    "from decision_tree import DecisionTreeClassifier"
   ]
  },
  {
   "cell_type": "markdown",
   "id": "f2737325",
   "metadata": {},
   "source": [
    "## Loading dataset.\n",
    "\n",
    "Original raw dataset\n",
    "```csv\n",
    "#name,legs,color\n",
    "Lion,4,0,\n",
    "Monkey,4,1\n",
    "Parrot,2,2\n",
    "Snake,0,2\n",
    "Bear,4,1\n",
    "```\n",
    "\n",
    "Normalized dataset (mapped string to int)\n",
    "\n",
    "```csv\n",
    "#name,legs,color\n",
    "0,4,0\n",
    "1,4,1\n",
    "2,2,2\n",
    "3,0,2\n",
    "4,4,1\n",
    "```\n",
    "\n",
    "Class mapping.\n",
    "\n",
    "```\n",
    "Lion:0\n",
    "Monkey:1\n",
    "Parrot:2\n",
    "Snake:3\n",
    "Bear:4\n",
    "```"
   ]
  },
  {
   "cell_type": "code",
   "execution_count": 11,
   "id": "7292c67e",
   "metadata": {},
   "outputs": [],
   "source": [
    "# Load the CSV file into a Pandas DataFrame.\n",
    "df = pd.read_csv('dataset/animals_clean.csv')\n",
    "\n",
    "# Split the DataFrame into features (X) and target (y).\n",
    "X = df[['legs', 'color']].values\n",
    "y = df['name'].values"
   ]
  },
  {
   "cell_type": "markdown",
   "id": "0d3648aa",
   "metadata": {},
   "source": [
    "## Train DecisionTreeClassifier"
   ]
  },
  {
   "cell_type": "code",
   "execution_count": 12,
   "id": "5f5dfa83",
   "metadata": {},
   "outputs": [],
   "source": [
    "clf = DecisionTreeClassifier()\n",
    "clf.fit(X, y)"
   ]
  },
  {
   "cell_type": "code",
   "execution_count": 13,
   "id": "9e629237",
   "metadata": {},
   "outputs": [],
   "source": [
    "# Labels dictionary.\n",
    "labels = {\n",
    "    0: 'Lion',\n",
    "    1: 'Monkey',\n",
    "    2: 'Parrot',\n",
    "    3: 'Snake',\n",
    "    4: 'Bear'\n",
    "}\n",
    "\n",
    "def print_cls(cls):\n",
    "    if cls is None:\n",
    "        print('Unknown')\n",
    "    else:\n",
    "        print(labels[cls])"
   ]
  },
  {
   "cell_type": "markdown",
   "id": "7d10cdb5",
   "metadata": {},
   "source": [
    "## Test Prediction."
   ]
  },
  {
   "cell_type": "code",
   "execution_count": 15,
   "id": "5b133fda",
   "metadata": {},
   "outputs": [
    {
     "name": "stdout",
     "output_type": "stream",
     "text": [
      "Lion\n",
      "Unknown\n",
      "Parrot\n",
      "Snake\n",
      "Unknown\n"
     ]
    }
   ],
   "source": [
    "test_cases = [\n",
    "    [4, 0],\n",
    "    [4, 1],\n",
    "    [2, 2],\n",
    "    [0, 2],\n",
    "    [4, 1]\n",
    "]\n",
    "for features in test_cases:\n",
    "    predictions = clf.predict(features)\n",
    "    print_cls(predictions)"
   ]
  },
  {
   "cell_type": "code",
   "execution_count": null,
   "id": "191057a4",
   "metadata": {},
   "outputs": [],
   "source": []
  }
 ],
 "metadata": {
  "kernelspec": {
   "display_name": "Python [conda env:dt] *",
   "language": "python",
   "name": "conda-env-dt-py"
  },
  "language_info": {
   "codemirror_mode": {
    "name": "ipython",
    "version": 3
   },
   "file_extension": ".py",
   "mimetype": "text/x-python",
   "name": "python",
   "nbconvert_exporter": "python",
   "pygments_lexer": "ipython3",
   "version": "3.9.16"
  }
 },
 "nbformat": 4,
 "nbformat_minor": 5
}
