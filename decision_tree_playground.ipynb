{
 "cells": [
  {
   "cell_type": "markdown",
   "id": "a09ed3f6",
   "metadata": {},
   "source": [
    "# Decision Tree Classifier Playground "
   ]
  },
  {
   "cell_type": "code",
   "execution_count": 5,
   "id": "872d64f7",
   "metadata": {},
   "outputs": [
    {
     "name": "stdout",
     "output_type": "stream",
     "text": [
      "Requirement already satisfied: pandas in /Users/henrytan/miniconda3/envs/py39/lib/python3.9/site-packages (2.0.1)\n",
      "Requirement already satisfied: python-dateutil>=2.8.2 in /Users/henrytan/miniconda3/envs/py39/lib/python3.9/site-packages (from pandas) (2.8.2)\n",
      "Requirement already satisfied: tzdata>=2022.1 in /Users/henrytan/miniconda3/envs/py39/lib/python3.9/site-packages (from pandas) (2023.3)\n",
      "Requirement already satisfied: pytz>=2020.1 in /Users/henrytan/miniconda3/envs/py39/lib/python3.9/site-packages (from pandas) (2023.3)\n",
      "Requirement already satisfied: numpy>=1.20.3 in /Users/henrytan/miniconda3/envs/py39/lib/python3.9/site-packages (from pandas) (1.24.3)\n",
      "Requirement already satisfied: six>=1.5 in /Users/henrytan/miniconda3/envs/py39/lib/python3.9/site-packages (from python-dateutil>=2.8.2->pandas) (1.16.0)\n"
     ]
    }
   ],
   "source": [
    "!pip install pandas"
   ]
  },
  {
   "cell_type": "code",
   "execution_count": 3,
   "id": "59861346",
   "metadata": {},
   "outputs": [],
   "source": [
    "import pandas as pd\n",
    "\n",
    "from decision_tree import DecisionTreeClassifier"
   ]
  },
  {
   "cell_type": "markdown",
   "id": "f2737325",
   "metadata": {},
   "source": [
    "## Loading dataset.\n",
    "\n",
    "Original raw dataset\n",
    "```csv\n",
    "#name,legs,color\n",
    "Lion,4,0,\n",
    "Monkey,4,1\n",
    "Parrot,2,2\n",
    "Snake,0,2\n",
    "Bear,4,1\n",
    "```\n",
    "\n",
    "Normalized dataset (mapped string to int)\n",
    "\n",
    "```csv\n",
    "#name,legs,color\n",
    "0,4,0\n",
    "1,4,1\n",
    "2,2,2\n",
    "3,0,2\n",
    "4,4,1\n",
    "```\n",
    "\n",
    "Class mapping.\n",
    "\n",
    "```\n",
    "Lion:0\n",
    "Monkey:1\n",
    "Parrot:2\n",
    "Snake:3\n",
    "Bear:4\n",
    "```"
   ]
  },
  {
   "cell_type": "code",
   "execution_count": 4,
   "id": "7292c67e",
   "metadata": {},
   "outputs": [],
   "source": [
    "# Load the CSV file into a Pandas DataFrame.\n",
    "df = pd.read_csv('dataset/normalized_animals.csv')\n",
    "\n",
    "# Split the DataFrame into features (X) and target (y).\n",
    "X = df[['legs', 'color']].values\n",
    "y = df['name'].values"
   ]
  },
  {
   "cell_type": "markdown",
   "id": "0d3648aa",
   "metadata": {},
   "source": [
    "## Train DecisionTreeClassifier"
   ]
  },
  {
   "cell_type": "code",
   "execution_count": 5,
   "id": "5f5dfa83",
   "metadata": {},
   "outputs": [],
   "source": [
    "clf = DecisionTreeClassifier()\n",
    "clf.fit(X, y)"
   ]
  },
  {
   "cell_type": "code",
   "execution_count": 6,
   "id": "9e629237",
   "metadata": {},
   "outputs": [],
   "source": [
    "# Labels dictionary.\n",
    "labels = {\n",
    "    0: 'Lion',\n",
    "    1: 'Monkey',\n",
    "    2: 'Parrot',\n",
    "    3: 'Snake',\n",
    "    4: 'Bear'\n",
    "}\n",
    "\n",
    "def print_cls(cls):\n",
    "    if cls is None:\n",
    "        print('Unknown')\n",
    "    else:\n",
    "        print(labels[cls])"
   ]
  },
  {
   "cell_type": "code",
   "execution_count": 7,
   "id": "b975465d",
   "metadata": {},
   "outputs": [
    {
     "name": "stdout",
     "output_type": "stream",
     "text": [
      " - Feature: 0 < 2\n",
      "  - Class: Snake Leaf: True\n",
      "  - Feature: 0 < 4\n",
      "   - Class: Parrot Leaf: True\n",
      "   - Feature: 1 < 1\n",
      "    - Class: Lion Leaf: True\n",
      "    - Class: Unknown Leaf: True\n"
     ]
    }
   ],
   "source": [
    "clf.print_tree(labels)"
   ]
  },
  {
   "cell_type": "markdown",
   "id": "7d10cdb5",
   "metadata": {},
   "source": [
    "## Test Prediction.\n",
    "\n",
    "Explainer: the features [4,1] do not appear to be discriminative predictors for distinguishing between `Monkey` and `Bear` classes. This means that the values of these features do not appear to have a strong correlation with the target class labels, and using them to make predictions may not result in accurate classification."
   ]
  },
  {
   "cell_type": "code",
   "execution_count": 11,
   "id": "5b133fda",
   "metadata": {},
   "outputs": [
    {
     "name": "stdout",
     "output_type": "stream",
     "text": [
      "Lion\n",
      "Unknown\n",
      "Parrot\n",
      "Snake\n",
      "Unknown\n"
     ]
    }
   ],
   "source": [
    "test_cases = [\n",
    "    [4, 0],\n",
    "    [4, 1],\n",
    "    [2, 2],\n",
    "    [0, 2],\n",
    "    [4, 1]\n",
    "]\n",
    "for features in test_cases:\n",
    "    predictions = clf.predict(features)\n",
    "    print_cls(predictions)"
   ]
  },
  {
   "cell_type": "code",
   "execution_count": 18,
   "id": "191057a4",
   "metadata": {},
   "outputs": [],
   "source": [
    "def print_tree(node, depth=0):\n",
    "    if node['leaf']:\n",
    "        label_idx = node['label']\n",
    "        label = labels[label_idx] if label_idx is not None else 'Unknown'\n",
    "        print(f\"{depth * ' '} - Class: {label} Leaf: {node['leaf']}\")\n",
    "    else:\n",
    "        print(f\"{depth * ' '} - Feature: {node['feature_idx']} < {node['threshold']}\")\n",
    "        print_tree(node['left'], depth + 1)\n",
    "        print_tree(node['right'], depth + 1)"
   ]
  },
  {
   "cell_type": "code",
   "execution_count": 19,
   "id": "17d7e11e",
   "metadata": {},
   "outputs": [
    {
     "name": "stdout",
     "output_type": "stream",
     "text": [
      " - Feature: 0 < 2\n",
      "  - Class: Snake Leaf: True\n",
      "  - Feature: 0 < 4\n",
      "   - Class: Parrot Leaf: True\n",
      "   - Feature: 1 < 1\n",
      "    - Class: Lion Leaf: True\n",
      "    - Class: Unknown Leaf: True\n"
     ]
    }
   ],
   "source": [
    "#name,legs,color\n",
    "# Lion,4,0,\n",
    "# Monkey,4,1\n",
    "# Parrot,2,2\n",
    "# Snake,0,2\n",
    "# Bear,4,1\n",
    "print_tree(clf.tree)"
   ]
  },
  {
   "cell_type": "code",
   "execution_count": null,
   "id": "03e91a2d",
   "metadata": {},
   "outputs": [],
   "source": []
  }
 ],
 "metadata": {
  "kernelspec": {
   "display_name": "Python 3 (ipykernel)",
   "language": "python",
   "name": "python3"
  },
  "language_info": {
   "codemirror_mode": {
    "name": "ipython",
    "version": 3
   },
   "file_extension": ".py",
   "mimetype": "text/x-python",
   "name": "python",
   "nbconvert_exporter": "python",
   "pygments_lexer": "ipython3",
   "version": "3.9.16"
  }
 },
 "nbformat": 4,
 "nbformat_minor": 5
}
